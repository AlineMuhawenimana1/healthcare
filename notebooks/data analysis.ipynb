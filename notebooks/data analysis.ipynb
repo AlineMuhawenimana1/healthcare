{
 "cells": [
  {
   "cell_type": "markdown",
   "id": "df8610c3-3ccc-4427-8e4d-9f4b7eb25852",
   "metadata": {},
   "source": [
    "## UCI Healthcare-Workforce-Mental-Health-Dataset-Exploratory and Descriptive analysis"
   ]
  },
  {
   "cell_type": "markdown",
   "id": "34535e9e-7005-40b9-9298-b3b7c7d076e3",
   "metadata": {},
   "source": [
    "this notebook if focused on data preparation, cleaning and preprocessing for the \n",
    "UCI Healthcare-Workforce-Mental-Health-Dataset\n",
    "This project aims to perform a comprehensive exploratory and descriptive analysis of the Healthcare Workforce Mental Health Dataset from UCI. The dataset focuses on the mental health conditions, treatment, employer support, and workplace impact for employees in the healthcare sector."
   ]
  },
  {
   "cell_type": "markdown",
   "id": "19b3ffb2-a74c-4cd2-91ae-67067b1fea97",
   "metadata": {},
   "source": [
    "we start for include all library that are neede to make our project work"
   ]
  },
  {
   "cell_type": "code",
   "execution_count": 6,
   "id": "f77709b0-f633-4b30-be7e-ca176db83afa",
   "metadata": {},
   "outputs": [],
   "source": [
    "import os\n",
    "import pandas as pd\n",
    "import numpy as np\n",
    "import plotly.express as px\n",
    "import textwrap "
   ]
  },
  {
   "cell_type": "markdown",
   "id": "b7968b1f-16f1-4f39-8879-0919271972c0",
   "metadata": {},
   "source": [
    "## Define and Create Paths\n",
    "This project follows a structured path starting with the definition of the problem—understanding mental health trends, treatment, and workplace support among healthcare professionals using the UCI Healthcare Workforce Mental Health Dataset. After acquiring and loading the dataset, we performed thorough data cleaning, handling missing values and standardizing categories for consistent analysis. We then conducted exploratory data analysis, Grouping and aggregation methods were used to compare mental health outcomes across regions and company sizes. Visualizations were created to clearly communicate trends, and descriptive statistics were calculated to summarize the dataset. The project concluded with key insights highlighting gaps in support and variations in treatment openness across demographics—laying the groundwork for data-driven mental health policies in healthcare workplaces."
   ]
  },
  {
   "cell_type": "code",
   "execution_count": 7,
   "id": "39e934fc-34bc-4023-a751-6cf0c3427487",
   "metadata": {},
   "outputs": [],
   "source": [
    "# Get working directory\n",
    "current_dir = os.getcwd()\n",
    "\n",
    "# Go one directory up to the root directory\n",
    "project_root_dir = os.path.dirname(current_dir)\n",
    "\n",
    "# Define paths to the data folder\n",
    "data_dir = os.path.join(project_root_dir, 'data')\n",
    "raw_dir = os.path.join(data_dir, 'raw')        \n",
    "processed_dir = os.path.join(data_dir, 'processed')\n",
    "\n",
    "# Define paths to results folder\n",
    "results_dir = os.path.join(project_root_dir, 'results')\n",
    "\n",
    "# Define paths to docs folder\n",
    "docs_dir = os.path.join(project_root_dir, 'docs')\n",
    "\n",
    "# Create directories if they do not exist\n",
    "os.makedirs(raw_dir, exist_ok = True)\n",
    "os.makedirs(processed_dir, exist_ok = True)\n",
    "os.makedirs(results_dir, exist_ok = True)\n",
    "os.makedirs(docs_dir, exist_ok = True)"
   ]
  },
  {
   "cell_type": "markdown",
   "id": "f63895b1-7229-4004-8f5d-31ec6dc826d9",
   "metadata": {},
   "source": [
    "## Read in the data\n",
    "we load the \"Healthcare Workforce Mental Health Dataset.csv\""
   ]
  },
  {
   "cell_type": "code",
   "execution_count": 8,
   "id": "a946cc0a-a7be-48cf-9262-3a3785b30f25",
   "metadata": {},
   "outputs": [
    {
     "data": {
      "text/html": [
       "<div>\n",
       "<style scoped>\n",
       "    .dataframe tbody tr th:only-of-type {\n",
       "        vertical-align: middle;\n",
       "    }\n",
       "\n",
       "    .dataframe tbody tr th {\n",
       "        vertical-align: top;\n",
       "    }\n",
       "\n",
       "    .dataframe thead th {\n",
       "        text-align: right;\n",
       "    }\n",
       "</style>\n",
       "<table border=\"1\" class=\"dataframe\">\n",
       "  <thead>\n",
       "    <tr style=\"text-align: right;\">\n",
       "      <th></th>\n",
       "      <th>Employee ID</th>\n",
       "      <th>Employee Type</th>\n",
       "      <th>Department</th>\n",
       "      <th>Workplace Factor</th>\n",
       "      <th>Stress Level</th>\n",
       "      <th>Burnout Frequency</th>\n",
       "      <th>Job Satisfaction</th>\n",
       "      <th>Access to EAPs</th>\n",
       "      <th>Mental Health Absences</th>\n",
       "      <th>Turnover Intention</th>\n",
       "    </tr>\n",
       "  </thead>\n",
       "  <tbody>\n",
       "    <tr>\n",
       "      <th>0</th>\n",
       "      <td>HCP-00001</td>\n",
       "      <td>Pediatric Nurse</td>\n",
       "      <td>Pediatrics</td>\n",
       "      <td>Heavy Workload</td>\n",
       "      <td>8</td>\n",
       "      <td>Often</td>\n",
       "      <td>2</td>\n",
       "      <td>Yes</td>\n",
       "      <td>6</td>\n",
       "      <td>No</td>\n",
       "    </tr>\n",
       "    <tr>\n",
       "      <th>1</th>\n",
       "      <td>HCP-00002</td>\n",
       "      <td>Laboratory Technician</td>\n",
       "      <td>Laboratory</td>\n",
       "      <td>Safety Concerns</td>\n",
       "      <td>8</td>\n",
       "      <td>Often</td>\n",
       "      <td>1</td>\n",
       "      <td>Yes</td>\n",
       "      <td>12</td>\n",
       "      <td>No</td>\n",
       "    </tr>\n",
       "    <tr>\n",
       "      <th>2</th>\n",
       "      <td>HCP-00003</td>\n",
       "      <td>Nursing Assistant</td>\n",
       "      <td>Assisted Living</td>\n",
       "      <td>Poor Work Environment</td>\n",
       "      <td>6</td>\n",
       "      <td>Occasionally</td>\n",
       "      <td>2</td>\n",
       "      <td>Yes</td>\n",
       "      <td>9</td>\n",
       "      <td>Yes</td>\n",
       "    </tr>\n",
       "    <tr>\n",
       "      <th>3</th>\n",
       "      <td>HCP-00004</td>\n",
       "      <td>Medical Assistant</td>\n",
       "      <td>Outpatient Services</td>\n",
       "      <td>Poor Work Environment</td>\n",
       "      <td>7</td>\n",
       "      <td>Never</td>\n",
       "      <td>4</td>\n",
       "      <td>No</td>\n",
       "      <td>11</td>\n",
       "      <td>No</td>\n",
       "    </tr>\n",
       "    <tr>\n",
       "      <th>4</th>\n",
       "      <td>HCP-00005</td>\n",
       "      <td>Registered Nurse</td>\n",
       "      <td>General Medicine</td>\n",
       "      <td>Work-Life Imbalance</td>\n",
       "      <td>8</td>\n",
       "      <td>Occasionally</td>\n",
       "      <td>2</td>\n",
       "      <td>Yes</td>\n",
       "      <td>7</td>\n",
       "      <td>No</td>\n",
       "    </tr>\n",
       "    <tr>\n",
       "      <th>5</th>\n",
       "      <td>HCP-00006</td>\n",
       "      <td>Registered Nurse</td>\n",
       "      <td>General Medicine</td>\n",
       "      <td>Heavy Workload</td>\n",
       "      <td>9</td>\n",
       "      <td>Occasionally</td>\n",
       "      <td>2</td>\n",
       "      <td>Yes</td>\n",
       "      <td>11</td>\n",
       "      <td>Yes</td>\n",
       "    </tr>\n",
       "    <tr>\n",
       "      <th>6</th>\n",
       "      <td>HCP-00007</td>\n",
       "      <td>Registered Nurse</td>\n",
       "      <td>General Medicine</td>\n",
       "      <td>Poor Work Environment</td>\n",
       "      <td>6</td>\n",
       "      <td>Occasionally</td>\n",
       "      <td>4</td>\n",
       "      <td>Yes</td>\n",
       "      <td>3</td>\n",
       "      <td>Yes</td>\n",
       "    </tr>\n",
       "    <tr>\n",
       "      <th>7</th>\n",
       "      <td>HCP-00008</td>\n",
       "      <td>Radiology Technician</td>\n",
       "      <td>Radiology</td>\n",
       "      <td>Career Stagnation</td>\n",
       "      <td>5</td>\n",
       "      <td>Occasionally</td>\n",
       "      <td>2</td>\n",
       "      <td>Yes</td>\n",
       "      <td>7</td>\n",
       "      <td>No</td>\n",
       "    </tr>\n",
       "    <tr>\n",
       "      <th>8</th>\n",
       "      <td>HCP-00009</td>\n",
       "      <td>Medical Assistant</td>\n",
       "      <td>Outpatient Services</td>\n",
       "      <td>Poor Work Environment</td>\n",
       "      <td>8</td>\n",
       "      <td>Often</td>\n",
       "      <td>2</td>\n",
       "      <td>Yes</td>\n",
       "      <td>9</td>\n",
       "      <td>Yes</td>\n",
       "    </tr>\n",
       "    <tr>\n",
       "      <th>9</th>\n",
       "      <td>HCP-00010</td>\n",
       "      <td>Nursing Assistant</td>\n",
       "      <td>Assisted Living</td>\n",
       "      <td>Heavy Workload</td>\n",
       "      <td>9</td>\n",
       "      <td>Occasionally</td>\n",
       "      <td>1</td>\n",
       "      <td>Yes</td>\n",
       "      <td>8</td>\n",
       "      <td>No</td>\n",
       "    </tr>\n",
       "  </tbody>\n",
       "</table>\n",
       "</div>"
      ],
      "text/plain": [
       "  Employee ID          Employee Type           Department  \\\n",
       "0   HCP-00001        Pediatric Nurse           Pediatrics   \n",
       "1   HCP-00002  Laboratory Technician           Laboratory   \n",
       "2   HCP-00003      Nursing Assistant      Assisted Living   \n",
       "3   HCP-00004      Medical Assistant  Outpatient Services   \n",
       "4   HCP-00005       Registered Nurse     General Medicine   \n",
       "5   HCP-00006       Registered Nurse     General Medicine   \n",
       "6   HCP-00007       Registered Nurse     General Medicine   \n",
       "7   HCP-00008   Radiology Technician            Radiology   \n",
       "8   HCP-00009      Medical Assistant  Outpatient Services   \n",
       "9   HCP-00010      Nursing Assistant      Assisted Living   \n",
       "\n",
       "        Workplace Factor  Stress Level Burnout Frequency  Job Satisfaction  \\\n",
       "0         Heavy Workload             8             Often                 2   \n",
       "1        Safety Concerns             8             Often                 1   \n",
       "2  Poor Work Environment             6      Occasionally                 2   \n",
       "3  Poor Work Environment             7             Never                 4   \n",
       "4    Work-Life Imbalance             8      Occasionally                 2   \n",
       "5         Heavy Workload             9      Occasionally                 2   \n",
       "6  Poor Work Environment             6      Occasionally                 4   \n",
       "7      Career Stagnation             5      Occasionally                 2   \n",
       "8  Poor Work Environment             8             Often                 2   \n",
       "9         Heavy Workload             9      Occasionally                 1   \n",
       "\n",
       "  Access to EAPs  Mental Health Absences Turnover Intention  \n",
       "0            Yes                       6                 No  \n",
       "1            Yes                      12                 No  \n",
       "2            Yes                       9                Yes  \n",
       "3             No                      11                 No  \n",
       "4            Yes                       7                 No  \n",
       "5            Yes                      11                Yes  \n",
       "6            Yes                       3                Yes  \n",
       "7            Yes                       7                 No  \n",
       "8            Yes                       9                Yes  \n",
       "9            Yes                       8                 No  "
      ]
     },
     "execution_count": 8,
     "metadata": {},
     "output_type": "execute_result"
    }
   ],
   "source": [
    "mental_health_df = os.path.join(processed_dir, \"Healthcare Workforce Mental Health Dataset.csv\")\n",
    "mental_health_df = pd.read_csv(mental_health_df)\n",
    "mental_health_df.head(10)"
   ]
  },
  {
   "cell_type": "markdown",
   "id": "1ba52dd6-7fde-42ec-82a9-0dd2fd24e9e5",
   "metadata": {},
   "source": [
    "This visualization analyzes the average stress level across departments by grouping the data and calculating the mean stress level for each. A horizontal bar chart, styled with a professional dark theme, displays departments sorted from highest to lowest stress.  This provides a clear view of which departments experience higher stress, helping guide targeted mental health interventions."
   ]
  },
  {
   "cell_type": "code",
   "execution_count": null,
   "id": "d9bb8f86-6802-487d-9e43-01bfa564c616",
   "metadata": {},
   "outputs": [],
   "source": [
    "!pip install -U kaleido\n",
    "# Group by Department and calculate the average Stress Level\n",
    "avg_stress_by_dept = (\n",
    "    mental_health_df\n",
    "    .groupby('Department', as_index=False)['Stress Level']\n",
    "    .mean()\n",
    ")\n",
    "\n",
    "# Sort the departments by Stress Level, descending\n",
    "avg_stress_by_dept = avg_stress_by_dept.sort_values(by='Stress Level', ascending=False)\n",
    "\n",
    "# Create the horizontal bar chart with data labels\n",
    "fig = px.bar(\n",
    "    avg_stress_by_dept,\n",
    "    x='Stress Level',\n",
    "    y='Department',\n",
    "    orientation='h',\n",
    "    title='Average Stress Level by Department',\n",
    "    labels={'Stress Level': 'Stress Level', 'Department': 'Department'},\n",
    "    color_discrete_sequence=['#00ffff'],\n",
    "    text='Stress Level'\n",
    ")\n",
    "#Format text and axes so labels don’t overlap\n",
    "fig.update_traces(\n",
    "    texttemplate='%{text:.2f}',\n",
    "    textposition='outside',\n",
    "    cliponaxis=False\n",
    ")\n",
    "fig.update_xaxes(automargin=True)\n",
    "\n",
    "# Unified layout & styling\n",
    "fig.update_layout(\n",
    "    template='presentation',\n",
    "    xaxis_title='Stress Level',\n",
    "    yaxis_title='Department',\n",
    "    xaxis_range=[0, 9],\n",
    "    width=1000,\n",
    "    height=500,\n",
    "    margin=dict(l=220, r=60, t=60, b=120),\n",
    "    paper_bgcolor='rgb(0, 0, 0)',\n",
    "    plot_bgcolor='rgb(0, 0, 0)',\n",
    "    font=dict(color='white'),\n",
    "    legend_title=dict(text='Income Level')\n",
    ")\n",
    "\n",
    "# Render & export\n",
    "fig.show()\n",
    "os.makedirs(results_dir, exist_ok=True)\n",
    "fig.write_image(os.path.join(results_dir, 'Average_stress_level_by_Department.jpg'))\n",
    "fig.write_image(os.path.join(results_dir, 'Average_stress_level_by_Department.png'))\n",
    "fig.write_html(os.path.join(results_dir, 'Average_stress_level_by_Department.html'))"
   ]
  },
  {
   "cell_type": "markdown",
   "id": "9af6f15b-93bf-402f-98df-10c240346a44",
   "metadata": {},
   "source": [
    "## Visualization: Mental Health Absences by Access to EAPs\n",
    "This step explores the relationship between access to Employee Assistance Programs (EAPs) and the average number of mental health absences reported by employees. Using the processed dataset, we first grouped the data by EAP access status and calculated the mean number of mental health absences for each group. A bar chart was then created using Plotly Express to visualize this comparison. The chart features clearly labeled bars with numeric values displayed on top for better readability. A dark-themed presentation layout was applied for visual consistency, and axes were formatted for clarity. The final chart reveals how the availability of EAPs may influence the frequency of mental health-related absences, offering valuable insights for organizational mental health support strategies."
   ]
  },
  {
   "cell_type": "code",
   "execution_count": 35,
   "id": "638a4325-60c4-4acc-825c-a588aaf80565",
   "metadata": {},
   "outputs": [
    {
     "data": {
      "application/vnd.plotly.v1+json": {
       "config": {
        "plotlyServerURL": "https://plot.ly"
       },
       "data": [
        {
         "alignmentgroup": "True",
         "cliponaxis": false,
         "hovertemplate": "Access to EAPs=%{x}<br>Mental Health Absences=%{text}<extra></extra>",
         "legendgroup": "",
         "marker": {
          "color": "#00ffff",
          "pattern": {
           "shape": ""
          }
         },
         "name": "",
         "offsetgroup": "",
         "orientation": "v",
         "showlegend": false,
         "text": [
          8.886913229018493,
          6.813021702838063
         ],
         "textposition": "outside",
         "texttemplate": "%{text:.2f}",
         "type": "bar",
         "x": [
          "No",
          "Yes"
         ],
         "xaxis": "x",
         "y": [
          8.886913229018493,
          6.813021702838063
         ],
         "yaxis": "y"
        }
       ],
       "layout": {
        "barmode": "relative",
        "height": 400,
        "legend": {
         "title": {
          "text": "Income Level"
         },
         "tracegroupgap": 0
        },
        "margin": {
         "b": 80,
         "l": 200,
         "r": 60,
         "t": 50
        },
        "paper_bgcolor": "rgb(0, 0, 0)",
        "plot_bgcolor": "rgb(0, 0, 0)",
        "template": {
         "data": {
          "pie": [
           {
            "automargin": true,
            "type": "pie"
           }
          ],
          "scatter": [
           {
            "line": {
             "width": 3
            },
            "marker": {
             "size": 9
            },
            "type": "scatter"
           }
          ],
          "scatter3d": [
           {
            "line": {
             "width": 3
            },
            "marker": {
             "size": 9
            },
            "type": "scatter3d"
           }
          ],
          "scattergeo": [
           {
            "line": {
             "width": 3
            },
            "marker": {
             "size": 9
            },
            "type": "scattergeo"
           }
          ],
          "scattergl": [
           {
            "line": {
             "width": 3
            },
            "marker": {
             "size": 9
            },
            "type": "scattergl"
           }
          ],
          "scatterpolar": [
           {
            "line": {
             "width": 3
            },
            "marker": {
             "size": 9
            },
            "type": "scatterpolar"
           }
          ],
          "scatterpolargl": [
           {
            "line": {
             "width": 3
            },
            "marker": {
             "size": 9
            },
            "type": "scatterpolargl"
           }
          ],
          "scatterternary": [
           {
            "line": {
             "width": 3
            },
            "marker": {
             "size": 9
            },
            "type": "scatterternary"
           }
          ],
          "table": [
           {
            "cells": {
             "height": 30
            },
            "header": {
             "height": 36
            },
            "type": "table"
           }
          ]
         },
         "layout": {
          "font": {
           "size": 18
          },
          "xaxis": {
           "title": {
            "standoff": 15
           }
          },
          "yaxis": {
           "title": {
            "standoff": 15
           }
          }
         }
        },
        "title": {
         "text": "Mental Health Absences by Access to EAPs"
        },
        "width": 600,
        "xaxis": {
         "anchor": "y",
         "autorange": true,
         "domain": [
          0,
          1
         ],
         "range": [
          -0.5,
          1.5
         ],
         "title": {
          "text": "Access to EAPs"
         },
         "type": "category"
        },
        "yaxis": {
         "anchor": "x",
         "domain": [
          0,
          1
         ],
         "range": [
          0,
          9
         ],
         "title": {
          "text": "Mental Health Absences"
         },
         "type": "linear"
        }
       }
      },
      "image/png": "[encoded data removed]",
      "text/html": [
       "<div>                            <div id=\"24c0b45b-8bdd-4b83-8efa-b3be092689cd\" class=\"plotly-graph-div\" style=\"height:400px; width:600px;\"></div>            <script type=\"text/javascript\">                require([\"plotly\"], function(Plotly) {                    window.PLOTLYENV=window.PLOTLYENV || {};                                    if (document.getElementById(\"24c0b45b-8bdd-4b83-8efa-b3be092689cd\")) {                    Plotly.newPlot(                        \"24c0b45b-8bdd-4b83-8efa-b3be092689cd\",                        [{\"alignmentgroup\":\"True\",\"hovertemplate\":\"Access to EAPs=%{x}\\u003cbr\\u003eMental Health Absences=%{text}\\u003cextra\\u003e\\u003c\\u002fextra\\u003e\",\"legendgroup\":\"\",\"marker\":{\"color\":\"#00ffff\",\"pattern\":{\"shape\":\"\"}},\"name\":\"\",\"offsetgroup\":\"\",\"orientation\":\"v\",\"showlegend\":false,\"text\":[8.886913229018493,6.813021702838063],\"textposition\":\"outside\",\"x\":[\"No\",\"Yes\"],\"xaxis\":\"x\",\"y\":[8.886913229018493,6.813021702838063],\"yaxis\":\"y\",\"type\":\"bar\",\"cliponaxis\":false,\"texttemplate\":\"%{text:.2f}\"}],                        {\"template\":{\"data\":{\"pie\":[{\"automargin\":true,\"type\":\"pie\"}],\"scatter3d\":[{\"line\":{\"width\":3},\"marker\":{\"size\":9},\"type\":\"scatter3d\"}],\"scattergeo\":[{\"line\":{\"width\":3},\"marker\":{\"size\":9},\"type\":\"scattergeo\"}],\"scattergl\":[{\"line\":{\"width\":3},\"marker\":{\"size\":9},\"type\":\"scattergl\"}],\"scatterpolargl\":[{\"line\":{\"width\":3},\"marker\":{\"size\":9},\"type\":\"scatterpolargl\"}],\"scatterpolar\":[{\"line\":{\"width\":3},\"marker\":{\"size\":9},\"type\":\"scatterpolar\"}],\"scatter\":[{\"line\":{\"width\":3},\"marker\":{\"size\":9},\"type\":\"scatter\"}],\"scatterternary\":[{\"line\":{\"width\":3},\"marker\":{\"size\":9},\"type\":\"scatterternary\"}],\"table\":[{\"cells\":{\"height\":30},\"header\":{\"height\":36},\"type\":\"table\"}]},\"layout\":{\"font\":{\"size\":18},\"xaxis\":{\"title\":{\"standoff\":15}},\"yaxis\":{\"title\":{\"standoff\":15}}}},\"xaxis\":{\"anchor\":\"y\",\"domain\":[0.0,1.0],\"title\":{\"text\":\"Access to EAPs\"}},\"yaxis\":{\"anchor\":\"x\",\"domain\":[0.0,1.0],\"title\":{\"text\":\"Mental Health Absences\"},\"range\":[0,9]},\"legend\":{\"tracegroupgap\":0,\"title\":{\"text\":\"Income Level\"}},\"title\":{\"text\":\"Mental Health Absences by Access to EAPs\"},\"barmode\":\"relative\",\"margin\":{\"l\":200,\"r\":60,\"t\":50,\"b\":80},\"width\":600,\"height\":400,\"paper_bgcolor\":\"rgb(0, 0, 0)\",\"plot_bgcolor\":\"rgb(0, 0, 0)\"},                        {\"responsive\": true}                    ).then(function(){\n",
       "                            \n",
       "var gd = document.getElementById('24c0b45b-8bdd-4b83-8efa-b3be092689cd');\n",
       "var x = new MutationObserver(function (mutations, observer) {{\n",
       "        var display = window.getComputedStyle(gd).display;\n",
       "        if (!display || display === 'none') {{\n",
       "            console.log([gd, 'removed!']);\n",
       "            Plotly.purge(gd);\n",
       "            observer.disconnect();\n",
       "        }}\n",
       "}});\n",
       "\n",
       "// Listen for the removal of the full notebook cells\n",
       "var notebookContainer = gd.closest('#notebook-container');\n",
       "if (notebookContainer) {{\n",
       "    x.observe(notebookContainer, {childList: true});\n",
       "}}\n",
       "\n",
       "// Listen for the clearing of the current output cell\n",
       "var outputEl = gd.closest('.output');\n",
       "if (outputEl) {{\n",
       "    x.observe(outputEl, {childList: true});\n",
       "}}\n",
       "\n",
       "                        })                };                });            </script>        </div>"
      ]
     },
     "metadata": {},
     "output_type": "display_data"
    }
   ],
   "source": [
    "import plotly.express as px\n",
    "import pandas as pd\n",
    "import os\n",
    "\n",
    "# Load the dataset\n",
    "file_path = os.path.join(processed_dir, \"Healthcare Workforce Mental Health Dataset.csv\")\n",
    "mental_health_df = pd.read_csv(file_path)\n",
    "\n",
    "# Group by access to EAPs and calculate average mental health absence\n",
    "avg_absence_by_eap = mental_health_df.groupby('Access to EAPs')['Mental Health Absences'].mean().reset_index()\n",
    "\n",
    "# Plot bar chart\n",
    "fig = px.bar(\n",
    "    avg_absence_by_eap,\n",
    "    x='Access to EAPs',\n",
    "    y='Mental Health Absences',\n",
    "    title='Mental Health Absences by Access to EAPs',\n",
    "    labels={'Access to EAPs': 'Access to EAPs', 'Mental Health Absences': 'Mental Health Absences'},\n",
    "    color_discrete_sequence=['#00ffff'],\n",
    "    text='Mental Health Absences'\n",
    ")\n",
    "\n",
    "# Format labels and layout\n",
    "fig.update_traces(\n",
    "    texttemplate='%{text:.2f}',\n",
    "    textposition='outside', \n",
    "    cliponaxis=False\n",
    ")\n",
    "fig.update_layout(\n",
    "    template='presentation',                       \n",
    "    legend_title=dict(text='Income Level'),       \n",
    "    xaxis_title='Access to EAPs',                  \n",
    "    yaxis_title='Mental Health Absences',          \n",
    "    yaxis_range=[0, 9],                           \n",
    "    width=600,                                    \n",
    "    height=400,                                     \n",
    "    margin=dict(\n",
    "        l=200,                                      \n",
    "        r=60,                                     \n",
    "        t=50,                                     \n",
    "        b=80                                  \n",
    "    ),                                            \n",
    "    paper_bgcolor='rgb(0, 0, 0)',                  \n",
    "    plot_bgcolor='rgb(0, 0, 0)'                 \n",
    ")\n",
    "\n",
    "fig.show()\n"
   ]
  },
  {
   "cell_type": "markdown",
   "id": "310141bf-939a-4215-8381-e3e857593df8",
   "metadata": {},
   "source": [
    "## visualization: Job Satisfaction by Employee Type\n",
    "This analysis examines how job satisfaction varies across different employee types within the healthcare workforce. After reading the dataset from the processed directory, the data was grouped by the Employee Type column, and the mean job satisfaction score was calculated for each group. A bar chart was then created using Plotly Express to visualize these averages. The chart clearly displays employee types along the x-axis and their corresponding average satisfaction levels on the y-axis. Numeric labels are shown above each bar for easy interpretation, and a dark-themed layout enhances visual appeal. The chart was formatted with a horizontal margin and tilted x-axis labels to avoid overlap. This visualization helps highlight which employee categories report higher or lower levels of satisfaction, offering useful insights for workforce well-being and HR planning. The results were prepared for export to multiple formats, supporting reporting and presentation use."
   ]
  },
  {
   "cell_type": "code",
   "execution_count": 27,
   "id": "11dd0649-63b9-4120-b118-870463430f03",
   "metadata": {},
   "outputs": [
    {
     "data": {
      "application/vnd.plotly.v1+json": {
       "config": {
        "plotlyServerURL": "https://plot.ly"
       },
       "data": [
        {
         "alignmentgroup": "True",
         "hovertemplate": "Employee Type=%{x}<br>Average Job Satisfaction=%{text}<extra></extra>",
         "legendgroup": "",
         "marker": {
          "color": "#00ffff",
          "pattern": {
           "shape": ""
          }
         },
         "name": "",
         "offsetgroup": "",
         "orientation": "v",
         "showlegend": false,
         "text": [
          2.067622950819672,
          2.670611439842209,
          2.347457627118644,
          2.2222222222222223,
          2.0796812749003983,
          2.148854961832061,
          2.0833333333333335,
          2.1486880466472305,
          2.202127659574468,
          2.127825409197194
         ],
         "textposition": "outside",
         "texttemplate": "%{text:.2f}",
         "type": "bar",
         "x": [
          "Critical Care Nurse",
          "Healthcare Administrator",
          "Laboratory Technician",
          "Medical Assistant",
          "Nursing Assistant",
          "Pediatric Nurse",
          "Physician (General)",
          "Physician (Specialist)",
          "Radiology Technician",
          "Registered Nurse"
         ],
         "xaxis": "x",
         "y": [
          2.067622950819672,
          2.670611439842209,
          2.347457627118644,
          2.2222222222222223,
          2.0796812749003983,
          2.148854961832061,
          2.0833333333333335,
          2.1486880466472305,
          2.202127659574468,
          2.127825409197194
         ],
         "yaxis": "y"
        }
       ],
       "layout": {
        "barmode": "relative",
        "height": 600,
        "legend": {
         "title": {
          "text": "Income Level"
         },
         "tracegroupgap": 0
        },
        "margin": {
         "b": 200,
         "l": 180,
         "r": 60,
         "t": 100
        },
        "paper_bgcolor": "rgb(0, 0, 0)",
        "plot_bgcolor": "rgb(0, 0, 0)",
        "template": {
         "data": {
          "pie": [
           {
            "automargin": true,
            "type": "pie"
           }
          ],
          "scatter": [
           {
            "line": {
             "width": 3
            },
            "marker": {
             "size": 9
            },
            "type": "scatter"
           }
          ],
          "scatter3d": [
           {
            "line": {
             "width": 3
            },
            "marker": {
             "size": 9
            },
            "type": "scatter3d"
           }
          ],
          "scattergeo": [
           {
            "line": {
             "width": 3
            },
            "marker": {
             "size": 9
            },
            "type": "scattergeo"
           }
          ],
          "scattergl": [
           {
            "line": {
             "width": 3
            },
            "marker": {
             "size": 9
            },
            "type": "scattergl"
           }
          ],
          "scatterpolar": [
           {
            "line": {
             "width": 3
            },
            "marker": {
             "size": 9
            },
            "type": "scatterpolar"
           }
          ],
          "scatterpolargl": [
           {
            "line": {
             "width": 3
            },
            "marker": {
             "size": 9
            },
            "type": "scatterpolargl"
           }
          ],
          "scatterternary": [
           {
            "line": {
             "width": 3
            },
            "marker": {
             "size": 9
            },
            "type": "scatterternary"
           }
          ],
          "table": [
           {
            "cells": {
             "height": 30
            },
            "header": {
             "height": 36
            },
            "type": "table"
           }
          ]
         },
         "layout": {
          "font": {
           "size": 18
          },
          "xaxis": {
           "title": {
            "standoff": 15
           }
          },
          "yaxis": {
           "title": {
            "standoff": 15
           }
          }
         }
        },
        "title": {
         "text": "Job Satisfaction by Employee Type"
        },
        "width": 1500,
        "xaxis": {
         "anchor": "y",
         "autorange": true,
         "domain": [
          0,
          1
         ],
         "range": [
          -0.5,
          9.5
         ],
         "tickangle": -15,
         "title": {
          "text": "Employee Type"
         },
         "type": "category"
        },
        "yaxis": {
         "anchor": "x",
         "autorange": true,
         "domain": [
          0,
          1
         ],
         "range": [
          0,
          2.8111699366760092
         ],
         "title": {
          "text": "Average Job Satisfaction"
         },
         "type": "linear"
        }
       }
      },
      "image/png": "[encoded data removed]",
      "text/html": [
       "<div>                            <div id=\"7d1e6d9c-c369-432e-845d-e3ce9eb02846\" class=\"plotly-graph-div\" style=\"height:600px; width:1500px;\"></div>            <script type=\"text/javascript\">                require([\"plotly\"], function(Plotly) {                    window.PLOTLYENV=window.PLOTLYENV || {};                                    if (document.getElementById(\"7d1e6d9c-c369-432e-845d-e3ce9eb02846\")) {                    Plotly.newPlot(                        \"7d1e6d9c-c369-432e-845d-e3ce9eb02846\",                        [{\"alignmentgroup\":\"True\",\"hovertemplate\":\"Employee Type=%{x}\\u003cbr\\u003eAverage Job Satisfaction=%{text}\\u003cextra\\u003e\\u003c\\u002fextra\\u003e\",\"legendgroup\":\"\",\"marker\":{\"color\":\"#00ffff\",\"pattern\":{\"shape\":\"\"}},\"name\":\"\",\"offsetgroup\":\"\",\"orientation\":\"v\",\"showlegend\":false,\"text\":[2.067622950819672,2.670611439842209,2.347457627118644,2.2222222222222223,2.0796812749003983,2.148854961832061,2.0833333333333335,2.1486880466472305,2.202127659574468,2.127825409197194],\"textposition\":\"outside\",\"x\":[\"Critical Care Nurse\",\"Healthcare Administrator\",\"Laboratory Technician\",\"Medical Assistant\",\"Nursing Assistant\",\"Pediatric Nurse\",\"Physician (General)\",\"Physician (Specialist)\",\"Radiology Technician\",\"Registered Nurse\"],\"xaxis\":\"x\",\"y\":[2.067622950819672,2.670611439842209,2.347457627118644,2.2222222222222223,2.0796812749003983,2.148854961832061,2.0833333333333335,2.1486880466472305,2.202127659574468,2.127825409197194],\"yaxis\":\"y\",\"type\":\"bar\",\"texttemplate\":\"%{text:.2f}\"}],                        {\"template\":{\"data\":{\"pie\":[{\"automargin\":true,\"type\":\"pie\"}],\"scatter3d\":[{\"line\":{\"width\":3},\"marker\":{\"size\":9},\"type\":\"scatter3d\"}],\"scattergeo\":[{\"line\":{\"width\":3},\"marker\":{\"size\":9},\"type\":\"scattergeo\"}],\"scattergl\":[{\"line\":{\"width\":3},\"marker\":{\"size\":9},\"type\":\"scattergl\"}],\"scatterpolargl\":[{\"line\":{\"width\":3},\"marker\":{\"size\":9},\"type\":\"scatterpolargl\"}],\"scatterpolar\":[{\"line\":{\"width\":3},\"marker\":{\"size\":9},\"type\":\"scatterpolar\"}],\"scatter\":[{\"line\":{\"width\":3},\"marker\":{\"size\":9},\"type\":\"scatter\"}],\"scatterternary\":[{\"line\":{\"width\":3},\"marker\":{\"size\":9},\"type\":\"scatterternary\"}],\"table\":[{\"cells\":{\"height\":30},\"header\":{\"height\":36},\"type\":\"table\"}]},\"layout\":{\"font\":{\"size\":18},\"xaxis\":{\"title\":{\"standoff\":15}},\"yaxis\":{\"title\":{\"standoff\":15}}}},\"xaxis\":{\"anchor\":\"y\",\"domain\":[0.0,1.0],\"title\":{\"text\":\"Employee Type\"},\"tickangle\":-15},\"yaxis\":{\"anchor\":\"x\",\"domain\":[0.0,1.0],\"title\":{\"text\":\"Average Job Satisfaction\"}},\"legend\":{\"tracegroupgap\":0,\"title\":{\"text\":\"Income Level\"}},\"title\":{\"text\":\"Job Satisfaction by Employee Type\"},\"barmode\":\"relative\",\"margin\":{\"l\":180,\"r\":60,\"t\":100,\"b\":200},\"width\":1500,\"height\":600,\"paper_bgcolor\":\"rgb(0, 0, 0)\",\"plot_bgcolor\":\"rgb(0, 0, 0)\"},                        {\"responsive\": true}                    ).then(function(){\n",
       "                            \n",
       "var gd = document.getElementById('7d1e6d9c-c369-432e-845d-e3ce9eb02846');\n",
       "var x = new MutationObserver(function (mutations, observer) {{\n",
       "        var display = window.getComputedStyle(gd).display;\n",
       "        if (!display || display === 'none') {{\n",
       "            console.log([gd, 'removed!']);\n",
       "            Plotly.purge(gd);\n",
       "            observer.disconnect();\n",
       "        }}\n",
       "}});\n",
       "\n",
       "// Listen for the removal of the full notebook cells\n",
       "var notebookContainer = gd.closest('#notebook-container');\n",
       "if (notebookContainer) {{\n",
       "    x.observe(notebookContainer, {childList: true});\n",
       "}}\n",
       "\n",
       "// Listen for the clearing of the current output cell\n",
       "var outputEl = gd.closest('.output');\n",
       "if (outputEl) {{\n",
       "    x.observe(outputEl, {childList: true});\n",
       "}}\n",
       "\n",
       "                        })                };                });            </script>        </div>"
      ]
     },
     "metadata": {},
     "output_type": "display_data"
    },
    {
     "ename": "ValueError",
     "evalue": "\nImage export using the \"kaleido\" engine requires the kaleido package,\nwhich can be installed using pip:\n    $ pip install -U kaleido\n",
     "output_type": "error",
     "traceback": [
      "\u001b[1;31m---------------------------------------------------------------------------\u001b[0m",
      "\u001b[1;31mValueError\u001b[0m                                Traceback (most recent call last)",
      "Cell \u001b[1;32mIn[27], line 49\u001b[0m\n\u001b[0;32m     47\u001b[0m \u001b[38;5;66;03m# Write outputs\u001b[39;00m\n\u001b[0;32m     48\u001b[0m os\u001b[38;5;241m.\u001b[39mmakedirs(results_dir, exist_ok\u001b[38;5;241m=\u001b[39m\u001b[38;5;28;01mTrue\u001b[39;00m)\n\u001b[1;32m---> 49\u001b[0m fig\u001b[38;5;241m.\u001b[39mwrite_image(os\u001b[38;5;241m.\u001b[39mpath\u001b[38;5;241m.\u001b[39mjoin(results_dir, \u001b[38;5;124m'\u001b[39m\u001b[38;5;124mJobsatisfaction_by_employee Type.jpg\u001b[39m\u001b[38;5;124m'\u001b[39m))\n\u001b[0;32m     50\u001b[0m fig\u001b[38;5;241m.\u001b[39mwrite_image(os\u001b[38;5;241m.\u001b[39mpath\u001b[38;5;241m.\u001b[39mjoin(results_dir, \u001b[38;5;124m'\u001b[39m\u001b[38;5;124mJobsatisfaction_by_employee Type.png\u001b[39m\u001b[38;5;124m'\u001b[39m))\n\u001b[0;32m     51\u001b[0m fig\u001b[38;5;241m.\u001b[39mwrite_html(os\u001b[38;5;241m.\u001b[39mpath\u001b[38;5;241m.\u001b[39mjoin(results_dir, \u001b[38;5;124m'\u001b[39m\u001b[38;5;124mJobsatisfaction_by_employee Type.html\u001b[39m\u001b[38;5;124m'\u001b[39m))\n",
      "File \u001b[1;32m~\\holly\\Lib\\site-packages\\plotly\\basedatatypes.py:3835\u001b[0m, in \u001b[0;36mBaseFigure.write_image\u001b[1;34m(self, *args, **kwargs)\u001b[0m\n\u001b[0;32m   3775\u001b[0m \u001b[38;5;250m\u001b[39m\u001b[38;5;124;03m\"\"\"\u001b[39;00m\n\u001b[0;32m   3776\u001b[0m \u001b[38;5;124;03mConvert a figure to a static image and write it to a file or writeable\u001b[39;00m\n\u001b[0;32m   3777\u001b[0m \u001b[38;5;124;03mobject\u001b[39;00m\n\u001b[1;32m   (...)\u001b[0m\n\u001b[0;32m   3831\u001b[0m \u001b[38;5;124;03mNone\u001b[39;00m\n\u001b[0;32m   3832\u001b[0m \u001b[38;5;124;03m\"\"\"\u001b[39;00m\n\u001b[0;32m   3833\u001b[0m \u001b[38;5;28;01mimport\u001b[39;00m \u001b[38;5;21;01mplotly\u001b[39;00m\u001b[38;5;21;01m.\u001b[39;00m\u001b[38;5;21;01mio\u001b[39;00m \u001b[38;5;28;01mas\u001b[39;00m \u001b[38;5;21;01mpio\u001b[39;00m\n\u001b[1;32m-> 3835\u001b[0m \u001b[38;5;28;01mreturn\u001b[39;00m pio\u001b[38;5;241m.\u001b[39mwrite_image(\u001b[38;5;28mself\u001b[39m, \u001b[38;5;241m*\u001b[39margs, \u001b[38;5;241m*\u001b[39m\u001b[38;5;241m*\u001b[39mkwargs)\n",
      "File \u001b[1;32m~\\holly\\Lib\\site-packages\\plotly\\io\\_kaleido.py:266\u001b[0m, in \u001b[0;36mwrite_image\u001b[1;34m(fig, file, format, scale, width, height, validate, engine)\u001b[0m\n\u001b[0;32m    250\u001b[0m             \u001b[38;5;28;01mraise\u001b[39;00m \u001b[38;5;167;01mValueError\u001b[39;00m(\n\u001b[0;32m    251\u001b[0m \u001b[38;5;250m                \u001b[39m\u001b[38;5;124;03m\"\"\"\u001b[39;00m\n\u001b[0;32m    252\u001b[0m \u001b[38;5;124;03mCannot infer image type from output path '{file}'.\u001b[39;00m\n\u001b[1;32m   (...)\u001b[0m\n\u001b[0;32m    260\u001b[0m                 )\n\u001b[0;32m    261\u001b[0m             )\n\u001b[0;32m    263\u001b[0m     \u001b[38;5;66;03m# Request image\u001b[39;00m\n\u001b[0;32m    264\u001b[0m     \u001b[38;5;66;03m# -------------\u001b[39;00m\n\u001b[0;32m    265\u001b[0m     \u001b[38;5;66;03m# Do this first so we don't create a file if image conversion fails\u001b[39;00m\n\u001b[1;32m--> 266\u001b[0m     img_data \u001b[38;5;241m=\u001b[39m to_image(\n\u001b[0;32m    267\u001b[0m         fig,\n\u001b[0;32m    268\u001b[0m         \u001b[38;5;28mformat\u001b[39m\u001b[38;5;241m=\u001b[39m\u001b[38;5;28mformat\u001b[39m,\n\u001b[0;32m    269\u001b[0m         scale\u001b[38;5;241m=\u001b[39mscale,\n\u001b[0;32m    270\u001b[0m         width\u001b[38;5;241m=\u001b[39mwidth,\n\u001b[0;32m    271\u001b[0m         height\u001b[38;5;241m=\u001b[39mheight,\n\u001b[0;32m    272\u001b[0m         validate\u001b[38;5;241m=\u001b[39mvalidate,\n\u001b[0;32m    273\u001b[0m         engine\u001b[38;5;241m=\u001b[39mengine,\n\u001b[0;32m    274\u001b[0m     )\n\u001b[0;32m    276\u001b[0m     \u001b[38;5;66;03m# Open file\u001b[39;00m\n\u001b[0;32m    277\u001b[0m     \u001b[38;5;66;03m# ---------\u001b[39;00m\n\u001b[0;32m    278\u001b[0m     \u001b[38;5;28;01mif\u001b[39;00m path \u001b[38;5;129;01mis\u001b[39;00m \u001b[38;5;28;01mNone\u001b[39;00m:\n\u001b[0;32m    279\u001b[0m         \u001b[38;5;66;03m# We previously failed to make sense of `file` as a pathlib object.\u001b[39;00m\n\u001b[0;32m    280\u001b[0m         \u001b[38;5;66;03m# Attempt to write to `file` as an open file descriptor.\u001b[39;00m\n",
      "File \u001b[1;32m~\\holly\\Lib\\site-packages\\plotly\\io\\_kaleido.py:132\u001b[0m, in \u001b[0;36mto_image\u001b[1;34m(fig, format, width, height, scale, validate, engine)\u001b[0m\n\u001b[0;32m    130\u001b[0m     \u001b[38;5;66;03m# Raise informative error message if Kaleido is not installed\u001b[39;00m\n\u001b[0;32m    131\u001b[0m     \u001b[38;5;28;01mif\u001b[39;00m scope \u001b[38;5;129;01mis\u001b[39;00m \u001b[38;5;28;01mNone\u001b[39;00m:\n\u001b[1;32m--> 132\u001b[0m         \u001b[38;5;28;01mraise\u001b[39;00m \u001b[38;5;167;01mValueError\u001b[39;00m(\n\u001b[0;32m    133\u001b[0m \u001b[38;5;250m            \u001b[39m\u001b[38;5;124;03m\"\"\"\u001b[39;00m\n\u001b[0;32m    134\u001b[0m \u001b[38;5;124;03mImage export using the \"kaleido\" engine requires the kaleido package,\u001b[39;00m\n\u001b[0;32m    135\u001b[0m \u001b[38;5;124;03mwhich can be installed using pip:\u001b[39;00m\n\u001b[0;32m    136\u001b[0m \u001b[38;5;124;03m    $ pip install -U kaleido\u001b[39;00m\n\u001b[0;32m    137\u001b[0m \u001b[38;5;124;03m\"\"\"\u001b[39;00m\n\u001b[0;32m    138\u001b[0m         )\n\u001b[0;32m    140\u001b[0m     \u001b[38;5;66;03m# Validate figure\u001b[39;00m\n\u001b[0;32m    141\u001b[0m     \u001b[38;5;66;03m# ---------------\u001b[39;00m\n\u001b[0;32m    142\u001b[0m     fig_dict \u001b[38;5;241m=\u001b[39m validate_coerce_fig_to_dict(fig, validate)\n",
      "\u001b[1;31mValueError\u001b[0m: \nImage export using the \"kaleido\" engine requires the kaleido package,\nwhich can be installed using pip:\n    $ pip install -U kaleido\n"
     ]
    }
   ],
   "source": [
    "import os\n",
    "# Define the path to the dataset\n",
    "file_path = os.path.join(processed_dir, \"Healthcare Workforce Mental Health Dataset.csv\")\n",
    "\n",
    "# Read the dataset\n",
    "mental_health_df = pd.read_csv(file_path)\n",
    "\n",
    "# Group by 'Employee Type' and calculate average 'Job Satisfaction'\n",
    "avg_satisfaction_by_type = mental_health_df.groupby('Employee Type')['Job Satisfaction'].mean().reset_index()\n",
    "\n",
    "# Create the bar chart\n",
    "fig = px.bar(\n",
    "    avg_satisfaction_by_type,\n",
    "    x='Employee Type',\n",
    "    y='Job Satisfaction',\n",
    "    title='Job Satisfaction by Employee Type',\n",
    "    labels={\n",
    "        'Job Satisfaction': 'Average Job Satisfaction',\n",
    "        'Employee Type': 'Employee Type'\n",
    "    },\n",
    "    color_discrete_sequence=['#00ffff'],\n",
    "    text='Job Satisfaction'\n",
    ")\n",
    "\n",
    "# Improve layout and appearance\n",
    "fig.update_traces(\n",
    "    texttemplate='%{text:.2f}',\n",
    "    textposition='outside'\n",
    ")\n",
    "\n",
    "fig.update_layout(\n",
    "    template='presentation',\n",
    "    legend_title=dict(text='Income Level'),\n",
    "    xaxis_title='Employee Type',\n",
    "    yaxis_title='Average Job Satisfaction',\n",
    "    xaxis_tickangle=-15,\n",
    "    \n",
    "    width=1500,\n",
    "    height=600,\n",
    "    margin=dict(l=180, r=60, t=100, b=200),\n",
    "    paper_bgcolor='rgb(0, 0, 0)',\n",
    "    plot_bgcolor='rgb(0, 0, 0)'\n",
    ")\n",
    "\n",
    "fig.show()\n",
    "\n",
    "# Write outputs\n",
    "os.makedirs(results_dir, exist_ok=True)\n",
    "fig.write_image(os.path.join(results_dir, 'Jobsatisfaction_by_employee Type.jpg,'))\n",
    "fig.write_image(os.path.join(results_dir, 'Jobsatisfaction_by_employee Type.png'))\n",
    "fig.write_html(os.path.join(results_dir, 'Jobsatisfaction_by_employee Type.html'))"
   ]
  },
  {
   "cell_type": "markdown",
   "id": "c8af2cde-80a4-483f-b491-c94bdd31a7e6",
   "metadata": {},
   "source": [
    "### Here we tried to make correlation for stress level and job satisfaction here we found that for correlation we have spearman Rank Correlation\n",
    "Measures: The strength and direction of a monotonic relationship (not necessarily linear).\n",
    "\n",
    "Uses ranks: It converts values into ranks before correlating.\n",
    "\n",
    "Range: Also from -1 to +1\n",
    "\n",
    "Use when:\n",
    "\n",
    "Data is not normally distributed\n",
    "\n",
    "You suspect a nonlinear but monotonic relationship\n",
    "\n",
    "Variables are ordinal (like \"Job Satisfaction\" rated 1–5)"
   ]
  },
  {
   "cell_type": "code",
   "execution_count": 11,
   "id": "b08cd009-ccf2-4773-b534-47a8df467d7b",
   "metadata": {},
   "outputs": [],
   "source": [
    "import pandas as pd\n",
    "\n",
    "df = pd.read_csv(r\"C:\\Users\\Dione\\Downloads\\healthcare\\data\\processed\\Healthcare Workforce Mental Health Dataset.csv\")\n"
   ]
  },
  {
   "cell_type": "code",
   "execution_count": 12,
   "id": "4ddb98a9-c0c7-45c6-9041-0bdfe0c8cd55",
   "metadata": {},
   "outputs": [],
   "source": [
    "# Select only the relevant columns and drop missing values\n",
    "data = df[['Stress Level', 'Job Satisfaction']].dropna()\n"
   ]
  },
  {
   "cell_type": "code",
   "execution_count": 13,
   "id": "7fb03e92-5ead-402c-9606-1f0f7d5a4a64",
   "metadata": {},
   "outputs": [
    {
     "name": "stdout",
     "output_type": "stream",
     "text": [
      "Spearman Correlation: -0.37, p-value: 0.0000\n"
     ]
    }
   ],
   "source": [
    "from scipy.stats import spearmanr\n",
    "\n",
    "# Spearman correlation (monotonic)\n",
    "spearman_corr, spearman_p = spearmanr(data['Stress Level'], data['Job Satisfaction'])\n",
    "\n",
    "print(f\"Spearman Correlation: {spearman_corr:.2f}, p-value: {spearman_p:.4f}\")\n"
   ]
  },
  {
   "cell_type": "code",
   "execution_count": 14,
   "id": "66354787-92fd-498e-9bf1-f537ba7dd8e0",
   "metadata": {},
   "outputs": [
    {
     "data": {
      "image/png": "[encoded data removed]",
      "text/plain": [
       "<Figure size 800x600 with 1 Axes>"
      ]
     },
     "metadata": {},
     "output_type": "display_data"
    }
   ],
   "source": [
    "import matplotlib.pyplot as plt\n",
    "import seaborn as sns\n",
    "\n",
    "plt.figure(figsize=(8, 6))\n",
    "sns.regplot(x='Stress Level', y='Job Satisfaction', data=data, scatter_kws={'alpha':0.5})\n",
    "plt.title(\"Stress Level vs Job Satisfaction\")\n",
    "plt.xlabel(\"Stress Level\")\n",
    "plt.ylabel(\"Job Satisfaction\")\n",
    "plt.grid(True)\n",
    "plt.show()\n"
   ]
  },
  {
   "cell_type": "markdown",
   "id": "7d278312-9cc4-495d-b2c6-65a6f9a43716",
   "metadata": {},
   "source": [
    "## statistical test for departments and burnout frequency\n",
    "This code tests whether burnout frequency is associated with the department healthcare workers belong to. It does this by:\n",
    "\n",
    "Counting how many people in each department report various burnout levels.\n",
    "\n",
    "Comparing these to what we would expect by chance.\n",
    "\n",
    "If the difference is big enough (statistically), we say there is a relationship.\n",
    "\n",
    "This section performs a Chi-Square test of independence to assess whether there is a statistically significant relationship between the Department a person works in and how often they report experiencing Burnout.\n",
    "\n",
    "\n"
   ]
  },
  {
   "cell_type": "code",
   "execution_count": 34,
   "id": "58bf20ce-905d-4e3f-b75d-866e286bd64a",
   "metadata": {},
   "outputs": [
    {
     "name": "stdout",
     "output_type": "stream",
     "text": [
      "Contingency Table:\n",
      "Burnout Frequency    Never  Occasionally  Often\n",
      "Department                                     \n",
      "Administration         149           244    114\n",
      "Assisted Living         65           209    228\n",
      "General Medicine       203           470    610\n",
      "General Practice        56           135    181\n",
      "ICU                     73           165    250\n",
      "Laboratory              58           145    151\n",
      "Outpatient Services     80           202    231\n",
      "Pediatrics              43            97    122\n",
      "Radiology               67           133    176\n",
      "Specialty Care          44           141    158\n",
      "\n",
      "Expected Frequencies:\n",
      "Burnout Frequency       Never  Occasionally     Often\n",
      "Department                                           \n",
      "Administration        84.9732      196.8174  225.2094\n",
      "Assisted Living       84.1352      194.8764  222.9884\n",
      "General Medicine     215.0308      498.0606  569.9086\n",
      "General Practice      62.3472      144.4104  165.2424\n",
      "ICU                   81.7888      189.4416  216.7696\n",
      "Laboratory            59.3304      137.4228  157.2468\n",
      "Outpatient Services   85.9788      199.1466  227.8746\n",
      "Pediatrics            43.9112      101.7084  116.3804\n",
      "Radiology             63.0176      145.9632  167.0192\n",
      "Specialty Care        57.4868      133.1526  152.3606\n",
      "\n",
      "Chi-square test result: χ² = 144.41, p = 0.0000, dof = 18\n",
      "There is a statistically significant association between Department and Burnout Frequency.\n"
     ]
    }
   ],
   "source": [
    "\n",
    "from scipy.stats import chi2_contingency\n",
    "\n",
    "# Step 1: Clean the data (drop rows with missing values)\n",
    "df_clean = df[['Department', 'Burnout Frequency']].dropna()\n",
    "\n",
    "# Step 2: Create a contingency table\n",
    "contingency = pd.crosstab(df_clean['Department'], df_clean['Burnout Frequency'])\n",
    "\n",
    "# Step 3: Run Chi-square test\n",
    "chi2, p, dof, expected = chi2_contingency(contingency)\n",
    "\n",
    "# Step 4: Output the results\n",
    "print(\"Contingency Table:\")\n",
    "print(contingency)\n",
    "print(\"\\nExpected Frequencies:\")\n",
    "print(pd.DataFrame(expected, index=contingency.index, columns=contingency.columns))\n",
    "print(f\"\\nChi-square test result: χ² = {chi2:.2f}, p = {p:.4f}, dof = {dof}\")\n",
    "\n",
    "# Step 5: Interpretation\n",
    "if p < 0.05:\n",
    "    print(\"There is a statistically significant association between Department and Burnout Frequency.\")\n",
    "else:\n",
    "    print(\" There is no statistically significant association between Department and Burnout Frequency.\")\n",
    "\n"
   ]
  },
  {
   "cell_type": "code",
   "execution_count": null,
   "id": "025c996a-d3a3-4a1d-b18b-83defee3b2e4",
   "metadata": {},
   "outputs": [],
   "source": []
  }
 ],
 "metadata": {
  "kernelspec": {
   "display_name": "Python [conda env:base] *",
   "language": "python",
   "name": "conda-base-py"
  },
  "language_info": {
   "codemirror_mode": {
    "name": "ipython",
    "version": 3
   },
   "file_extension": ".py",
   "mimetype": "text/x-python",
   "name": "python",
   "nbconvert_exporter": "python",
   "pygments_lexer": "ipython3",
   "version": "3.12.7"
  }
 },
 "nbformat": 4,
 "nbformat_minor": 5
}
